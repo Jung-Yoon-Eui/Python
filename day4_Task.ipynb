{
 "cells": [
  {
   "cell_type": "code",
   "execution_count": 2,
   "metadata": {},
   "outputs": [
    {
     "name": "stdout",
     "output_type": "stream",
     "text": [
      "{75, 45, 15, 90, 60, 30}\n"
     ]
    }
   ],
   "source": [
    "# 26-8 공배수 구하기\n",
    "\n",
    "a={i for i in range(1,101) if i%3==0}\n",
    "b={i for i in range(1,101) if i%5==0}\n",
    "\n",
    "print(a&b)"
   ]
  },
  {
   "cell_type": "code",
   "execution_count": 87,
   "metadata": {},
   "outputs": [
    {
     "name": "stdout",
     "output_type": "stream",
     "text": [
      "100 200\n",
      "217\n"
     ]
    }
   ],
   "source": [
    "# 26-9 공약수 구하기\n",
    "\n",
    "a,b=map(int,input().split())\n",
    "sum=0\n",
    "\n",
    "for i in range(a+b):\n",
    "    if a%(i+1)==0 and b%(i+1)==0:\n",
    "        sum+=i+1\n",
    "        \n",
    "print(sum)"
   ]
  },
  {
   "cell_type": "code",
   "execution_count": 92,
   "metadata": {},
   "outputs": [
    {
     "name": "stdout",
     "output_type": "stream",
     "text": [
      "dictator\n",
      "subjects\n",
      "change\n"
     ]
    }
   ],
   "source": [
    "# 27-6\n",
    "   #l=lines.replace(',',' ').replace('.',' ').split(' ')\n",
    "with open('day4/words1.txt','r') as file:\n",
    "    for line in file:\n",
    "        text=line.replace(',','').replace('.','').split()\n",
    "        for i in range(len(text)):\n",
    "            if 'c' in text[i]:\n",
    "                print(text[i])\n",
    "        "
   ]
  },
  {
   "cell_type": "code",
   "execution_count": 64,
   "metadata": {},
   "outputs": [
    {
     "name": "stdout",
     "output_type": "stream",
     "text": [
      "단어를 입력하세요 : level\n",
      "True\n",
      "단어를 입력하세요 : levle\n",
      "False\n",
      "단어를 입력하세요 : level\n",
      "True\n"
     ]
    }
   ],
   "source": [
    "# 회문\n",
    "\n",
    "# 반복문으로 회문 여부 검사\n",
    "word = input('단어를 입력하세요 : ')\n",
    "\n",
    "re = True\n",
    "for i in range(len(word)//2):\n",
    "    if word[i]!=word[-1-i]:\n",
    "        re=False\n",
    "        break\n",
    "\n",
    "print(re)\n",
    "\n",
    "# 시퀀스 뒤집기로 회문 여부 검사\n",
    "word = input('단어를 입력하세요 : ')\n",
    "print(word==word[::-1])\n",
    "\n",
    "# 리스트 reversed\n",
    "word = input('단어를 입력하세요 : ')\n",
    "print(list(word)==list(reversed(word)))"
   ]
  },
  {
   "cell_type": "code",
   "execution_count": 71,
   "metadata": {},
   "outputs": [
    {
     "name": "stdout",
     "output_type": "stream",
     "text": [
      "He\n",
      "el\n",
      "ll\n",
      "lo\n",
      "-----\n",
      "Hello Python\n",
      "Python i'm\n",
      "i'm ye\n",
      "-----\n",
      "He\n",
      "el\n",
      "ll\n",
      "lo\n"
     ]
    }
   ],
   "source": [
    "# N-game\n",
    "\n",
    "text='Hello'\n",
    "\n",
    "for i in range(len(text)-1):\n",
    "    print(text[i],text[i+1],sep='')\n",
    "    \n",
    "print('-----')\n",
    "\n",
    "text='Hello Python i\\'m ye'\n",
    "words=text.split()\n",
    "\n",
    "for i in range(len(words)-1):\n",
    "    print(words[i],words[i+1],sep=' ')\n",
    "\n",
    "    \n",
    "print('-----')\n",
    "\n",
    "text='Hello'\n",
    "\n",
    "ziptext=zip(text, text[1:])\n",
    "\n",
    "for i in ziptext:\n",
    "    print(i[0], i[1], sep='')"
   ]
  },
  {
   "cell_type": "code",
   "execution_count": 74,
   "metadata": {},
   "outputs": [
    {
     "name": "stdout",
     "output_type": "stream",
     "text": [
      "3\n",
      "Python is a programming language lets you work quickly\n",
      "('Python', 'is', 'a')\n",
      "('is', 'a', 'programming')\n",
      "('a', 'programming', 'language')\n",
      "('programming', 'language', 'lets')\n",
      "('language', 'lets', 'you')\n",
      "('lets', 'you', 'work')\n",
      "('you', 'work', 'quickly')\n"
     ]
    }
   ],
   "source": [
    "# 28-3\n",
    "\n",
    "n=int(input())\n",
    "text=input()\n",
    "words=text.split()\n",
    "\n",
    "if len(words)<n:\n",
    "    print('wrong')\n",
    "else:\n",
    "    n_gram=zip(*[words[i:] for i in range(n)])\n",
    "    for i in n_gram:\n",
    "        print(i)\n",
    "\n",
    "# Python is a programming language lets you work quickly"
   ]
  },
  {
   "cell_type": "code",
   "execution_count": 79,
   "metadata": {},
   "outputs": [
    {
     "name": "stdout",
     "output_type": "stream",
     "text": [
      "did\n",
      "noon\n",
      "refer\n"
     ]
    }
   ],
   "source": [
    "# 28-4\n",
    "\n",
    "with open('day4/words2.txt','r') as file:\n",
    "    for line in file:\n",
    "        text=line.strip('\\n')\n",
    "        if text==text[::-1]:\n",
    "            print(text)"
   ]
  }
 ],
 "metadata": {
  "kernelspec": {
   "display_name": "Python 3",
   "language": "python",
   "name": "python3"
  },
  "language_info": {
   "codemirror_mode": {
    "name": "ipython",
    "version": 3
   },
   "file_extension": ".py",
   "mimetype": "text/x-python",
   "name": "python",
   "nbconvert_exporter": "python",
   "pygments_lexer": "ipython3",
   "version": "3.8.3"
  }
 },
 "nbformat": 4,
 "nbformat_minor": 4
}
