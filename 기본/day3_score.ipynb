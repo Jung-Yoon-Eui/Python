{
 "cells": [
  {
   "cell_type": "code",
   "execution_count": 1,
   "metadata": {},
   "outputs": [
    {
     "name": "stdout",
     "output_type": "stream",
     "text": [
      "1.등록 | 2.검색 | 3.삭제 | 4.수정 | 5.전체 조회5\n",
      "전체 조회\n"
     ]
    },
    {
     "ename": "FileNotFoundError",
     "evalue": "[Errno 2] No such file or directory: 'score/program.p'",
     "output_type": "error",
     "traceback": [
      "\u001b[1;31m---------------------------------------------------------------------------\u001b[0m",
      "\u001b[1;31mFileNotFoundError\u001b[0m                         Traceback (most recent call last)",
      "\u001b[1;32m<ipython-input-1-9a141cb2db07>\u001b[0m in \u001b[0;36m<module>\u001b[1;34m\u001b[0m\n\u001b[0;32m     64\u001b[0m \u001b[1;32mif\u001b[0m \u001b[0mmenu\u001b[0m\u001b[1;33m==\u001b[0m\u001b[1;36m5\u001b[0m\u001b[1;33m:\u001b[0m\u001b[1;33m\u001b[0m\u001b[1;33m\u001b[0m\u001b[0m\n\u001b[0;32m     65\u001b[0m     \u001b[0mprint\u001b[0m\u001b[1;33m(\u001b[0m\u001b[1;34m'전체 조회'\u001b[0m\u001b[1;33m)\u001b[0m\u001b[1;33m\u001b[0m\u001b[1;33m\u001b[0m\u001b[0m\n\u001b[1;32m---> 66\u001b[1;33m     \u001b[1;32mwith\u001b[0m \u001b[0mopen\u001b[0m\u001b[1;33m(\u001b[0m\u001b[1;34m'score/program.p'\u001b[0m\u001b[1;33m,\u001b[0m\u001b[1;34m'rb'\u001b[0m\u001b[1;33m)\u001b[0m \u001b[1;32mas\u001b[0m \u001b[0mfile\u001b[0m\u001b[1;33m:\u001b[0m\u001b[1;33m\u001b[0m\u001b[1;33m\u001b[0m\u001b[0m\n\u001b[0m\u001b[0;32m     67\u001b[0m         \u001b[0mprogram\u001b[0m\u001b[1;33m=\u001b[0m\u001b[0mpickle\u001b[0m\u001b[1;33m.\u001b[0m\u001b[0mload\u001b[0m\u001b[1;33m(\u001b[0m\u001b[0mfile\u001b[0m\u001b[1;33m)\u001b[0m\u001b[1;33m\u001b[0m\u001b[1;33m\u001b[0m\u001b[0m\n\u001b[0;32m     68\u001b[0m \u001b[1;33m\u001b[0m\u001b[0m\n",
      "\u001b[1;31mFileNotFoundError\u001b[0m: [Errno 2] No such file or directory: 'score/program.p'"
     ]
    }
   ],
   "source": [
    "# 성적처리 program  # 등록, 검색, 삭제, 수정, 조회, 파일 입출력\n",
    "import pickle\n",
    "\n",
    "subject=['국어','영어','수학','과학']\n",
    "program = dict()\n",
    "\n",
    "menu=int(input('1.등록 | 2.검색 | 3.삭제 | 4.수정 | 5.전체 조회'))\n",
    "\n",
    "if menu==1: # 등록\n",
    "    print('등록하기')\n",
    "    with open('score/program.p','rb') as file:\n",
    "        program=pickle.load(file)\n",
    "    \n",
    "    name=input('이름 : ')\n",
    "    scores = {subject[0]:input('국어 : '), subject[1]:input('영어 : '), \n",
    "              subject[2]:input('수학 : '), subject[3]:input('과학 : ')}\n",
    "    program.setdefault(name,scores)\n",
    "    \n",
    "    with open('score/program.p','wb') as file:\n",
    "        pickle.dump(program,file)\n",
    "\n",
    "if menu==2: # 검색\n",
    "    print('검색하기')\n",
    "    name=input('이름 : ')\n",
    "    with open('score/program.p','rb') as file:\n",
    "        program=pickle.load(file)\n",
    "        if program.get(name) !=None :\n",
    "            print(name,'성적')\n",
    "            print(program.get(name))\n",
    "        else:\n",
    "            print('존재하지 않는 학생입니다.')\n",
    "\n",
    "if menu==3: # 삭제\n",
    "    print('삭제하기')\n",
    "    name=input('이름 : ')\n",
    "    with open('score/program.p','rb') as file:\n",
    "        program=pickle.load(file)\n",
    "        if program.get(name) !=None :\n",
    "            program.pop(name)\n",
    "            print(name,'삭제 되었습니다.')\n",
    "        else:\n",
    "            print('존재하지 않는 학생입니다.')\n",
    "\n",
    "    with open('score/program.p','wb') as file:\n",
    "        pickle.dump(program,file)\n",
    "\n",
    "if menu==4: # 수정\n",
    "    print('수정하기')\n",
    "    name=input('이름 : ')\n",
    "    with open('score/program.p','rb') as file:\n",
    "        program=pickle.load(file)\n",
    "        if program.get(name) !=None :\n",
    "            program.pop(name)    \n",
    "            nameS=name\n",
    "            scores = {subject[0]:input('국어 : '), subject[1]:input('영어 : '), \n",
    "                    subject[2]:input('수학 : '), subject[3]:input('과학 : ')}\n",
    "            program.setdefault(nameS,scores)\n",
    "    \n",
    "            with open('score/program.p','wb') as file:\n",
    "                pickle.dump(program,file)\n",
    "        else:\n",
    "            print('존재하지 않는 학생입니다.')        \n",
    "        \n",
    "if menu==5:\n",
    "    print('전체 조회')\n",
    "    with open('score/program.p','rb') as file:\n",
    "        program=pickle.load(file)\n",
    "        \n",
    "        for key, value in program.items():\n",
    "            print(key,':', value)\n"
   ]
  }
 ],
 "metadata": {
  "kernelspec": {
   "display_name": "Python 3",
   "language": "python",
   "name": "python3"
  },
  "language_info": {
   "codemirror_mode": {
    "name": "ipython",
    "version": 3
   },
   "file_extension": ".py",
   "mimetype": "text/x-python",
   "name": "python",
   "nbconvert_exporter": "python",
   "pygments_lexer": "ipython3",
   "version": "3.8.3"
  }
 },
 "nbformat": 4,
 "nbformat_minor": 4
}
