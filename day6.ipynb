{
 "cells": [
  {
   "cell_type": "code",
   "execution_count": 1,
   "metadata": {},
   "outputs": [
    {
     "name": "stdout",
     "output_type": "stream",
     "text": [
      "나눌 숫자를 입력하세요 : 0\n",
      "예외가 발생하였습니다.\n"
     ]
    }
   ],
   "source": [
    "# 예외 처리\n",
    "\n",
    "try:\n",
    "    x=int(input('나눌 숫자를 입력하세요 : '))\n",
    "    y=10/x\n",
    "    print(y)\n",
    "except:\n",
    "    print('예외가 발생하였습니다.')"
   ]
  },
  {
   "cell_type": "code",
   "execution_count": 3,
   "metadata": {},
   "outputs": [
    {
     "name": "stdout",
     "output_type": "stream",
     "text": [
      "인덱스와 나눌 숫자를 입력하세요 : 3 5\n",
      "잘못된 인덱스 입니다.\n"
     ]
    }
   ],
   "source": [
    "# 특정 상황 예외 처리\n",
    "\n",
    "y=[10,20,30]\n",
    "\n",
    "try:\n",
    "    index, x=map(int,input('인덱스와 나눌 숫자를 입력하세요 : ').split())\n",
    "    print(y[index]/x)\n",
    "except ZeroDivisionError:\n",
    "    print('숫자를 0으로 나눌 수 없습니다.')\n",
    "except IndexError:\n",
    "    print('잘못된 인덱스 입니다.')"
   ]
  },
  {
   "cell_type": "code",
   "execution_count": 5,
   "metadata": {},
   "outputs": [
    {
     "name": "stdout",
     "output_type": "stream",
     "text": [
      "인덱스와 나눌 숫자를 입력하세요 : 3 5\n",
      "잘못된 인덱스 입니다. list index out of range\n"
     ]
    }
   ],
   "source": [
    "# 특정 상황 예외 처리 및 에러 메시지 받아오기\n",
    "\n",
    "y=[10,20,30]\n",
    "\n",
    "try:\n",
    "    index, x=map(int,input('인덱스와 나눌 숫자를 입력하세요 : ').split())\n",
    "    print(y[index]/x)\n",
    "except ZeroDivisionError as e:\n",
    "    print('숫자를 0으로 나눌 수 없습니다.',e)\n",
    "except IndexError as e:\n",
    "    print('잘못된 인덱스 입니다.',e)"
   ]
  },
  {
   "cell_type": "code",
   "execution_count": 6,
   "metadata": {},
   "outputs": [
    {
     "name": "stdout",
     "output_type": "stream",
     "text": [
      "나눌 숫자를 입력하세요 : 0\n",
      "숫자를 0으로 나눌 수 없습니다. division by zero\n"
     ]
    }
   ],
   "source": [
    "# else(*)와 finally\n",
    "\n",
    "try:\n",
    "    x=int(input('나눌 숫자를 입력하세요 : '))\n",
    "    y=10/x\n",
    "except ZeroDivisionError as e:\n",
    "    print('숫자를 0으로 나눌 수 없습니다.',e)\n",
    "else:\n",
    "    print(y)"
   ]
  },
  {
   "cell_type": "code",
   "execution_count": 8,
   "metadata": {},
   "outputs": [
    {
     "name": "stdout",
     "output_type": "stream",
     "text": [
      "나눌 숫자를 입력하세요 : 0\n",
      "숫자를 0으로 나눌 수 없습니다. division by zero\n",
      "코드 실행이 종료 되었습니다.\n"
     ]
    }
   ],
   "source": [
    "# else와 finally(*)\n",
    "\n",
    "try:\n",
    "    x=int(input('나눌 숫자를 입력하세요 : '))\n",
    "    y=10/x\n",
    "except ZeroDivisionError as e:\n",
    "    print('숫자를 0으로 나눌 수 없습니다.',e)\n",
    "else:\n",
    "    print(y)\n",
    "finally:\n",
    "    print('코드 실행이 종료 되었습니다.')"
   ]
  },
  {
   "cell_type": "code",
   "execution_count": 10,
   "metadata": {},
   "outputs": [
    {
     "name": "stdout",
     "output_type": "stream",
     "text": [
      "3의 배수를 입력하세요. : 5\n",
      "예외가 발생했습니다. 3의 배수가 아닙니다.\n"
     ]
    }
   ],
   "source": [
    "# 예외 발생 시키기 raise\n",
    "\n",
    "try:\n",
    "    x=int(input('3의 배수를 입력하세요. : '))\n",
    "    if x%3 != 0:\n",
    "        raise Exception('3의 배수가 아닙니다.')\n",
    "    print(x)\n",
    "except Exception as e:\n",
    "    print('예외가 발생했습니다.',e)"
   ]
  },
  {
   "cell_type": "code",
   "execution_count": 11,
   "metadata": {},
   "outputs": [
    {
     "name": "stdout",
     "output_type": "stream",
     "text": [
      "3의 배수를 입력하세요 : 5\n",
      "예외가 발생했습니다. 3의 배수가 아닙니다.\n"
     ]
    }
   ],
   "source": [
    "# raise 처리 과정\n",
    "\n",
    "def three_multiple():\n",
    "    x=int(input('3의 배수를 입력하세요 : '))\n",
    "    if x%3 != 0:\n",
    "        raise Exception('3의 배수가 아닙니다.')\n",
    "    print(x)\n",
    "\n",
    "try:\n",
    "    three_multiple()\n",
    "except Exception as e:\n",
    "    print('예외가 발생했습니다.',e)"
   ]
  },
  {
   "cell_type": "code",
   "execution_count": 14,
   "metadata": {},
   "outputs": [
    {
     "name": "stdout",
     "output_type": "stream",
     "text": [
      "3의 배수를 입력하세요 : 5\n",
      "three_multiple 함수에서 예외가 발생했습니다. 3의 배수가 아닙니다.\n",
      "스크립트 파일에서 예외가 발생했습니다. 3의 배수가 아닙니다.\n"
     ]
    }
   ],
   "source": [
    "# 현재 예외를 다시 발생시키키\n",
    "\n",
    "def three_multiple():\n",
    "\n",
    "    try:\n",
    "        x=int(input('3의 배수를 입력하세요 : '))\n",
    "        if x%3 != 0:\n",
    "            raise Exception('3의 배수가 아닙니다.')\n",
    "        print(x)\n",
    "    except Exception as e:\n",
    "            print('three_multiple 함수에서 예외가 발생했습니다.',e)\n",
    "            raise\n",
    "\n",
    "try:\n",
    "    three_multiple()\n",
    "except Exception as e:\n",
    "    print('스크립트 파일에서 예외가 발생했습니다.',e)\n"
   ]
  },
  {
   "cell_type": "code",
   "execution_count": 16,
   "metadata": {},
   "outputs": [
    {
     "name": "stdout",
     "output_type": "stream",
     "text": [
      "3의 배수를 입력하세요 : 5\n"
     ]
    },
    {
     "ename": "AssertionError",
     "evalue": "3의 배수가 아닙니다.",
     "output_type": "error",
     "traceback": [
      "\u001b[1;31m---------------------------------------------------------------------------\u001b[0m",
      "\u001b[1;31mAssertionError\u001b[0m                            Traceback (most recent call last)",
      "\u001b[1;32m<ipython-input-16-5814216e6b9d>\u001b[0m in \u001b[0;36m<module>\u001b[1;34m\u001b[0m\n\u001b[0;32m      2\u001b[0m \u001b[1;33m\u001b[0m\u001b[0m\n\u001b[0;32m      3\u001b[0m \u001b[0mx\u001b[0m\u001b[1;33m=\u001b[0m\u001b[0mint\u001b[0m\u001b[1;33m(\u001b[0m\u001b[0minput\u001b[0m\u001b[1;33m(\u001b[0m\u001b[1;34m'3의 배수를 입력하세요 : '\u001b[0m\u001b[1;33m)\u001b[0m\u001b[1;33m)\u001b[0m\u001b[1;33m\u001b[0m\u001b[1;33m\u001b[0m\u001b[0m\n\u001b[1;32m----> 4\u001b[1;33m \u001b[1;32massert\u001b[0m \u001b[0mx\u001b[0m\u001b[1;33m%\u001b[0m\u001b[1;36m3\u001b[0m\u001b[1;33m==\u001b[0m\u001b[1;36m0\u001b[0m\u001b[1;33m,\u001b[0m \u001b[1;34m'3의 배수가 아닙니다.'\u001b[0m\u001b[1;33m\u001b[0m\u001b[1;33m\u001b[0m\u001b[0m\n\u001b[0m\u001b[0;32m      5\u001b[0m \u001b[0mprint\u001b[0m\u001b[1;33m(\u001b[0m\u001b[0mx\u001b[0m\u001b[1;33m)\u001b[0m\u001b[1;33m\u001b[0m\u001b[1;33m\u001b[0m\u001b[0m\n",
      "\u001b[1;31mAssertionError\u001b[0m: 3의 배수가 아닙니다."
     ]
    }
   ],
   "source": [
    "# 조건식 예외 처리\n",
    "\n",
    "x=int(input('3의 배수를 입력하세요 : '))\n",
    "assert x%3==0, '3의 배수가 아닙니다.'\n",
    "print(x)"
   ]
  },
  {
   "cell_type": "code",
   "execution_count": 19,
   "metadata": {},
   "outputs": [
    {
     "name": "stdout",
     "output_type": "stream",
     "text": [
      "3의 배수를 입력하세요 : 5\n",
      "예외가 발생했습니다. Test Error\n"
     ]
    },
    {
     "ename": "TestException",
     "evalue": "Test Error",
     "output_type": "error",
     "traceback": [
      "\u001b[1;31m---------------------------------------------------------------------------\u001b[0m",
      "\u001b[1;31mTestException\u001b[0m                             Traceback (most recent call last)",
      "\u001b[1;32m<ipython-input-19-eab952e272d9>\u001b[0m in \u001b[0;36m<module>\u001b[1;34m\u001b[0m\n\u001b[0;32m     16\u001b[0m             \u001b[1;32mraise\u001b[0m\u001b[1;33m\u001b[0m\u001b[1;33m\u001b[0m\u001b[0m\n\u001b[0;32m     17\u001b[0m \u001b[1;33m\u001b[0m\u001b[0m\n\u001b[1;32m---> 18\u001b[1;33m \u001b[0mthree_multiple\u001b[0m\u001b[1;33m(\u001b[0m\u001b[1;33m)\u001b[0m\u001b[1;33m\u001b[0m\u001b[1;33m\u001b[0m\u001b[0m\n\u001b[0m",
      "\u001b[1;32m<ipython-input-19-eab952e272d9>\u001b[0m in \u001b[0;36mthree_multiple\u001b[1;34m()\u001b[0m\n\u001b[0;32m     10\u001b[0m         \u001b[0mx\u001b[0m\u001b[1;33m=\u001b[0m\u001b[0mint\u001b[0m\u001b[1;33m(\u001b[0m\u001b[0minput\u001b[0m\u001b[1;33m(\u001b[0m\u001b[1;34m'3의 배수를 입력하세요 : '\u001b[0m\u001b[1;33m)\u001b[0m\u001b[1;33m)\u001b[0m\u001b[1;33m\u001b[0m\u001b[1;33m\u001b[0m\u001b[0m\n\u001b[0;32m     11\u001b[0m         \u001b[1;32mif\u001b[0m \u001b[0mx\u001b[0m\u001b[1;33m%\u001b[0m\u001b[1;36m3\u001b[0m \u001b[1;33m!=\u001b[0m \u001b[1;36m0\u001b[0m\u001b[1;33m:\u001b[0m\u001b[1;33m\u001b[0m\u001b[1;33m\u001b[0m\u001b[0m\n\u001b[1;32m---> 12\u001b[1;33m             \u001b[1;32mraise\u001b[0m \u001b[0mTestException\u001b[0m\u001b[1;33m\u001b[0m\u001b[1;33m\u001b[0m\u001b[0m\n\u001b[0m\u001b[0;32m     13\u001b[0m         \u001b[0mprint\u001b[0m\u001b[1;33m(\u001b[0m\u001b[0mx\u001b[0m\u001b[1;33m)\u001b[0m\u001b[1;33m\u001b[0m\u001b[1;33m\u001b[0m\u001b[0m\n\u001b[0;32m     14\u001b[0m     \u001b[1;32mexcept\u001b[0m \u001b[0mException\u001b[0m \u001b[1;32mas\u001b[0m \u001b[0me\u001b[0m\u001b[1;33m:\u001b[0m\u001b[1;33m\u001b[0m\u001b[1;33m\u001b[0m\u001b[0m\n",
      "\u001b[1;31mTestException\u001b[0m: Test Error"
     ]
    }
   ],
   "source": [
    "# 예외 만들기\n",
    "\n",
    "class TestException(Exception):\n",
    "    def __init__(self):\n",
    "        super().__init__('Test Error')\n",
    "\n",
    "        \n",
    "def three_multiple():\n",
    "    try:\n",
    "        x=int(input('3의 배수를 입력하세요 : '))\n",
    "        if x%3 != 0:\n",
    "            raise TestException\n",
    "        print(x)\n",
    "    except Exception as e:\n",
    "            print('예외가 발생했습니다.',e)\n",
    "            raise\n",
    "\n",
    "three_multiple()"
   ]
  },
  {
   "cell_type": "code",
   "execution_count": 21,
   "metadata": {},
   "outputs": [
    {
     "name": "stdout",
     "output_type": "stream",
     "text": [
      "200\n"
     ]
    }
   ],
   "source": [
    "# 37-2 사각형 넓이 구하기\n",
    "\n",
    "class Rectangle:\n",
    "    def __init__(self,x1,x2,y1,y2):\n",
    "        self.x1=x1\n",
    "        self.x2=x2\n",
    "        self.y1=y1\n",
    "        self.y2=y2\n",
    "\n",
    "rect = Rectangle(x1=20, y1=20, x2=40, y2=30)\n",
    "w=rect.x2-rect.x1\n",
    "h=rect.y2-rect.y1\n",
    "area=abs(w)*abs(h)\n",
    "print(area)\n",
    "        "
   ]
  },
  {
   "cell_type": "code",
   "execution_count": 30,
   "metadata": {},
   "outputs": [
    {
     "name": "stdout",
     "output_type": "stream",
     "text": [
      "100 100 200 200 300 300 400 400\n",
      "424.26406871192853\n"
     ]
    }
   ],
   "source": [
    "# 37-3 두 점 사이의 거리 구하기\n",
    "\n",
    "import math\n",
    "\n",
    "class Point2D:\n",
    "    def __init__(self,x=0,y=0):\n",
    "        self.x=x\n",
    "        self.y=y\n",
    "\n",
    "    \n",
    "lenght = 0.0\n",
    "p=[Point2D(),Point2D(),Point2D(),Point2D()]\n",
    "p[0].x, p[0].y, p[1].x, p[1].y, p[2].x, p[2].y, p[3].x, p[3].y = map(int,input().split())\n",
    "#p[for i in range(len(p))].x, p[for i in range(len(p))].y = map(int,input().split())\n",
    "\n",
    "for i in range(len(p)-1):\n",
    "    x=p[i].x-p[i+1].x\n",
    "    y=p[i].y-p[i+1].y\n",
    "    line=math.sqrt(x**2 + y**2)\n",
    "    lenght += line\n",
    "\n",
    "    \n",
    "print(lenght)"
   ]
  },
  {
   "cell_type": "code",
   "execution_count": 31,
   "metadata": {},
   "outputs": [
    {
     "name": "stdout",
     "output_type": "stream",
     "text": [
      "파일이 없습니다.\n"
     ]
    }
   ],
   "source": [
    "# 38-1\n",
    "\n",
    "try:\n",
    "    file = open('maria.txt','r')\n",
    "except FileNotFoundError:\n",
    "    print('파일이 없습니다.')\n",
    "else:\n",
    "    s=file.read()\n",
    "    file.close()"
   ]
  },
  {
   "cell_type": "code",
   "execution_count": 53,
   "metadata": {},
   "outputs": [
    {
     "name": "stdout",
     "output_type": "stream",
     "text": [
      "hello\n",
      "회문이 아닙니다.\n"
     ]
    }
   ],
   "source": [
    "# 38-2\n",
    "\n",
    "class NotPalindromeError(Exception):\n",
    "    def __init__(self):\n",
    "        super().__init__('회문이 아닙니다.')\n",
    "\n",
    "def palindrome(word):\n",
    "    for i in range(len(word)//2):\n",
    "        if word[i]!=word[-1-i]:\n",
    "            raise NotPalindromeError\n",
    "            break\n",
    "    print(word)\n",
    "\n",
    "try:\n",
    "    word = input()\n",
    "    palindrome(word)\n",
    "except NotPalindromeError as e:\n",
    "    print(e)"
   ]
  },
  {
   "cell_type": "code",
   "execution_count": 48,
   "metadata": {},
   "outputs": [
    {
     "name": "stdout",
     "output_type": "stream",
     "text": [
      "먹다\n",
      "파닥거리다\n",
      "날다\n",
      "True\n",
      "True\n"
     ]
    }
   ],
   "source": [
    "# 36-9\n",
    "\n",
    "class Animal:\n",
    "    def eat(self):\n",
    "        print('먹다')\n",
    "        \n",
    "class Wing:\n",
    "    def flap(self):\n",
    "        print('파닥거리다')\n",
    "        \n",
    "class Bird(Animal,Wing):\n",
    "    def fly(self):\n",
    "        print('날다')\n",
    "        \n",
    "        \n",
    "b = Bird()\n",
    "b.eat()\n",
    "b.flap()\n",
    "b.fly()\n",
    "print(issubclass(Bird,Animal))\n",
    "print(issubclass(Bird,Wing))"
   ]
  },
  {
   "cell_type": "code",
   "execution_count": 63,
   "metadata": {},
   "outputs": [
    {
     "name": "stdout",
     "output_type": "stream",
     "text": [
      "1\n",
      "<list_iterator object at 0x00000000051355E0>\n"
     ]
    },
    {
     "ename": "StopIteration",
     "evalue": "",
     "output_type": "error",
     "traceback": [
      "\u001b[1;31m---------------------------------------------------------------------------\u001b[0m",
      "\u001b[1;31mStopIteration\u001b[0m                             Traceback (most recent call last)",
      "\u001b[1;32m<ipython-input-63-97ac054ffd3f>\u001b[0m in \u001b[0;36m<module>\u001b[1;34m\u001b[0m\n\u001b[0;32m      6\u001b[0m \u001b[0mprint\u001b[0m\u001b[1;33m(\u001b[0m\u001b[0mit\u001b[0m\u001b[1;33m)\u001b[0m\u001b[1;33m\u001b[0m\u001b[1;33m\u001b[0m\u001b[0m\n\u001b[0;32m      7\u001b[0m \u001b[0mit\u001b[0m\u001b[1;33m.\u001b[0m\u001b[0m__next__\u001b[0m\u001b[1;33m(\u001b[0m\u001b[1;33m)\u001b[0m\u001b[1;33m\u001b[0m\u001b[1;33m\u001b[0m\u001b[0m\n\u001b[1;32m----> 8\u001b[1;33m \u001b[0mit\u001b[0m\u001b[1;33m.\u001b[0m\u001b[0m__next__\u001b[0m\u001b[1;33m(\u001b[0m\u001b[1;33m)\u001b[0m\u001b[1;33m\u001b[0m\u001b[1;33m\u001b[0m\u001b[0m\n\u001b[0m",
      "\u001b[1;31mStopIteration\u001b[0m: "
     ]
    }
   ],
   "source": [
    "# 이터레이터 : 값을 차례대로 꺼낼 수 있는 객체\n",
    "\n",
    "it=[1,2,3].__iter__()\n",
    "print(it.__next__())\n",
    "it.__next__()\n",
    "print(it)\n",
    "it.__next__()\n",
    "it.__next__() # StopIteration 발생"
   ]
  },
  {
   "cell_type": "code",
   "execution_count": 66,
   "metadata": {},
   "outputs": [
    {
     "ename": "SyntaxError",
     "evalue": "invalid syntax (<ipython-input-66-9c10b24d395e>, line 1)",
     "output_type": "error",
     "traceback": [
      "\u001b[1;36m  File \u001b[1;32m\"<ipython-input-66-9c10b24d395e>\"\u001b[1;36m, line \u001b[1;32m1\u001b[0m\n\u001b[1;33m    del sum_coroutine():\u001b[0m\n\u001b[1;37m                       ^\u001b[0m\n\u001b[1;31mSyntaxError\u001b[0m\u001b[1;31m:\u001b[0m invalid syntax\n"
     ]
    }
   ],
   "source": [
    "del sum_coroutine():\n",
    "    total=0\n",
    "    while True:\n",
    "        x=(yield total)\n",
    "        total+=x\n",
    "        \n",
    "co=sum_coroutine()\n",
    "print(next(co))\n",
    "\n",
    "print(co.send(1))\n",
    "print(co.send(2))\n",
    "print(co.send(3))\n"
   ]
  },
  {
   "cell_type": "code",
   "execution_count": 69,
   "metadata": {},
   "outputs": [
    {
     "name": "stdout",
     "output_type": "stream",
     "text": [
      "hello 함수 시작\n",
      "hello\n",
      "hello 함수 끝\n",
      "world 함수 시작\n",
      "world\n",
      "world 함수 끝\n"
     ]
    }
   ],
   "source": [
    "# 데코레이터\n",
    "\n",
    "def trace(func):\n",
    "    def wrapper():\n",
    "        print(func.__name__,'함수 시작')\n",
    "        func()\n",
    "        print(func.__name__,'함수 끝')\n",
    "    return wrapper\n",
    "\n",
    "@trace\n",
    "def hello():\n",
    "    print('hello')\n",
    "    \n",
    "@trace\n",
    "def world():\n",
    "    print('world')\n",
    "    \n",
    "hello()\n",
    "world()"
   ]
  },
  {
   "cell_type": "code",
   "execution_count": 70,
   "metadata": {},
   "outputs": [
    {
     "name": "stdout",
     "output_type": "stream",
     "text": [
      "deco1\n",
      "deco2\n",
      "hello\n"
     ]
    }
   ],
   "source": [
    "# 데코레이터를 여러개 지정하기\n",
    "\n",
    "def deco1(func):\n",
    "    def wrapper():\n",
    "        print('deco1')\n",
    "        func()\n",
    "    return wrapper\n",
    "\n",
    "\n",
    "def deco2(func):\n",
    "    def wrapper():\n",
    "        print('deco2')\n",
    "        func()\n",
    "    return wrapper\n",
    "\n",
    "@deco1\n",
    "@deco2\n",
    "def hello():\n",
    "    print('hello')\n",
    "    \n",
    "hello()"
   ]
  },
  {
   "cell_type": "code",
   "execution_count": 72,
   "metadata": {},
   "outputs": [
    {
     "name": "stdout",
     "output_type": "stream",
     "text": [
      "hello 함수 시작\n",
      "hello\n",
      "hello 함수 끝\n"
     ]
    }
   ],
   "source": [
    "# 클래스로 데코레이터 만들기\n",
    "\n",
    "class Trace:\n",
    "    def __init__(self,func):\n",
    "        self.func=func\n",
    "    \n",
    "    def __call__(self):\n",
    "        print(self.func.__name__,'함수 시작')\n",
    "        self.func()\n",
    "        print(self.func.__name__,'함수 끝')\n",
    "        \n",
    "@Trace\n",
    "def hello():\n",
    "    print('hello')\n",
    "    \n",
    "hello()"
   ]
  },
  {
   "cell_type": "code",
   "execution_count": 74,
   "metadata": {},
   "outputs": [
    {
     "name": "stdout",
     "output_type": "stream",
     "text": [
      "add(args=(10, 20),kwargs={})->30\n",
      "30\n",
      "add(args=(),kwargs={'a': 10, 'b': 20})->30\n",
      "30\n"
     ]
    }
   ],
   "source": [
    "# 클래스로 매개변수와 반환값을 처리하는 데코레이터 만들기\n",
    "\n",
    "class Trace:\n",
    "    def __init__(self,func):\n",
    "        self.func=func\n",
    "    \n",
    "    def __call__(self, *args, **kwargs):\n",
    "        r = self.func(*args, **kwargs)\n",
    "        \n",
    "        print('{0}(args={1},kwargs={2})->{3}'.format(self.func.__name__,args,kwargs,r))\n",
    "        return r\n",
    "    \n",
    "@Trace\n",
    "def add(a,b):\n",
    "    return a+b\n",
    "\n",
    "print(add(10,20))\n",
    "print(add(a=10,b=20))"
   ]
  },
  {
   "cell_type": "code",
   "execution_count": null,
   "metadata": {},
   "outputs": [],
   "source": [
    "# 정규표현식"
   ]
  }
 ],
 "metadata": {
  "kernelspec": {
   "display_name": "Python 3",
   "language": "python",
   "name": "python3"
  },
  "language_info": {
   "codemirror_mode": {
    "name": "ipython",
    "version": 3
   },
   "file_extension": ".py",
   "mimetype": "text/x-python",
   "name": "python",
   "nbconvert_exporter": "python",
   "pygments_lexer": "ipython3",
   "version": "3.8.3"
  }
 },
 "nbformat": 4,
 "nbformat_minor": 4
}
