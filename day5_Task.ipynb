{
 "cells": [
  {
   "cell_type": "code",
   "execution_count": 1,
   "metadata": {},
   "outputs": [
    {
     "name": "stdout",
     "output_type": "stream",
     "text": [
      "1 2\n",
      "덧셈: 3, 뺄셈: -1, 곱셈: 2, 나눗셈: 0.5\n"
     ]
    }
   ],
   "source": [
    "# 29-8\n",
    "\n",
    "a,b=map(int,input().split())\n",
    "\n",
    "def calcFull(a,b):\n",
    "    return a+b, a-b, a*b, a/b\n",
    "\n",
    "w,x,y,z = calcFull(a,b)\n",
    "print('덧셈: {0}, 뺄셈: {1}, 곱셈: {2}, 나눗셈: {3}'.format(w,x,y,z))"
   ]
  },
  {
   "cell_type": "code",
   "execution_count": 4,
   "metadata": {},
   "outputs": [
    {
     "name": "stdout",
     "output_type": "stream",
     "text": [
      "76,82,89,84\n",
      "낮은 점수: 76.00, 높은 점수: 89.00, 평균 점수: 82.75\n",
      "낮은 점수: 82.00, 높은 점수: 84.00, 평균 점수: 83.00\n",
      "76,82,89,84\n",
      "낮은 점수: 76.00, 높은 점수: 89.00, 평균 점수: 82.75\n",
      "낮은 점수: 82.00, 높은 점수: 84.00, 평균 점수: 83.00\n"
     ]
    }
   ],
   "source": [
    "# 30-7\n",
    "\n",
    "kor, eng, mat, sci = map(int,input().split(','))\n",
    "\n",
    "def score(*scores):\n",
    "    return min(scores),max(scores),sum(scores)/len(scores)\n",
    "\n",
    "print('낮은 점수: {0:.2f}, 높은 점수: {1:.2f}, 평균 점수: {2:.2f}'.format(*score(kor, eng, mat, sci)))\n",
    "print('낮은 점수: {0:.2f}, 높은 점수: {1:.2f}, 평균 점수: {2:.2f}'.format(*score(eng, sci)))\n",
    "\n",
    "\n",
    "# 30-7\n",
    "\n",
    "kor, eng, mat, sci = map(int,input().split(','))\n",
    "\n",
    "def score2(*scores):\n",
    "    return min(scores),max(scores)\n",
    "\n",
    "def avg2(**scores):\n",
    "    return sum(scores.values())/len(scores)\n",
    "\n",
    "minn, maxx = score2(kor, eng, mat, sci)\n",
    "avg = avg2(kor=kor, eng=eng, mat=mat, sci=sci)\n",
    "print('낮은 점수: {0:.2f}, 높은 점수: {1:.2f}, 평균 점수: {2:.2f}'.format(minn, maxx, avg))\n",
    "\n",
    "minn, maxx = score2(eng, sci)\n",
    "avg = avg2(eng=eng, sci=sci)\n",
    "print('낮은 점수: {0:.2f}, 높은 점수: {1:.2f}, 평균 점수: {2:.2f}'.format(minn, maxx, avg))"
   ]
  },
  {
   "cell_type": "code",
   "execution_count": 6,
   "metadata": {},
   "outputs": [
    {
     "name": "stdout",
     "output_type": "stream",
     "text": [
      "20\n",
      "6765\n"
     ]
    }
   ],
   "source": [
    "# 31-5\n",
    "\n",
    "n=int(input())\n",
    "\n",
    "def fib(n):\n",
    "    if n<3:\n",
    "        return 1\n",
    "    return fib(n-1)+fib(n-2)\n",
    "\n",
    "print(fib(n))"
   ]
  },
  {
   "cell_type": "code",
   "execution_count": 7,
   "metadata": {},
   "outputs": [
    {
     "name": "stdout",
     "output_type": "stream",
     "text": [
      "97.xlsx 98.docx 99.docx\n",
      "['097.xlsx', '098.docx', '099.docx']\n"
     ]
    }
   ],
   "source": [
    "# 32-5\n",
    "\n",
    "files=input().split()\n",
    "print(list(map(lambda x:'{:0>3}'.format(x[0:x.find('.')])+x[x.find('.'):len(x)], files)))"
   ]
  },
  {
   "cell_type": "code",
   "execution_count": 8,
   "metadata": {},
   "outputs": [
    {
     "name": "stdout",
     "output_type": "stream",
     "text": [
      "10\n",
      "10 9 8 7 6 5 4 3 2 1 "
     ]
    }
   ],
   "source": [
    "# 33-6\n",
    "\n",
    "def countdown(n):\n",
    "    n+=1\n",
    "    def count():\n",
    "        nonlocal n\n",
    "        n-=1\n",
    "        return n\n",
    "    return count\n",
    "\n",
    "n=int(input())\n",
    "c=countdown(n)\n",
    "\n",
    "for i in range(n):\n",
    "    print(c(), end=' ')"
   ]
  },
  {
   "cell_type": "code",
   "execution_count": 15,
   "metadata": {},
   "outputs": [
    {
     "name": "stdout",
     "output_type": "stream",
     "text": [
      "1803.68,1184.0,645\n",
      "티버 : 피해량 819.25\n"
     ]
    }
   ],
   "source": [
    "# 34-6\n",
    "\n",
    "class Annie:\n",
    "    def __init__(self,health, mana, ability):\n",
    "        self.health=health\n",
    "        self.mana=mana\n",
    "        self.ability=ability\n",
    "        \n",
    "    def tibbers(self):\n",
    "        t=ability*0.65+400\n",
    "        print('티버 : 피해량',t)\n",
    "    \n",
    "health, mana, ability = map(float,input().split(','))\n",
    "\n",
    "x=Annie(health=health, mana=mana, ability=ability)\n",
    "x.tibbers()"
   ]
  },
  {
   "cell_type": "code",
   "execution_count": 40,
   "metadata": {},
   "outputs": [
    {
     "name": "stdout",
     "output_type": "stream",
     "text": [
      "12:2:2\n",
      "12 2 2\n"
     ]
    }
   ],
   "source": [
    "# 35-6\n",
    "\n",
    "class Time:\n",
    "    def __init__(self,h,m,s):\n",
    "        self.h=h\n",
    "        self.m=m\n",
    "        self.s=s\n",
    "    \n",
    "    def is_time_valid(self):\n",
    "        h,m,s=map(int,time_string.split(':'))\n",
    "        return h<=24 and m<60 and s<=60\n",
    "    \n",
    "    def from_string(self):\n",
    "        h,m,s=map(int,time_string.split(':'))\n",
    "        return h,m,s\n",
    "    \n",
    "time_string = input()\n",
    "h,m,s=Time.from_string(time_string)\n",
    "\n",
    "if Time.is_time_valid(time_string):\n",
    "    t=Time.from_string(time_string)\n",
    "    print(h,m,s)\n",
    "else:\n",
    "    print('잘못된 시간 형식 입니다.')"
   ]
  },
  {
   "cell_type": "code",
   "execution_count": 16,
   "metadata": {},
   "outputs": [
    {
     "name": "stdout",
     "output_type": "stream",
     "text": [
      "먹다\n",
      "파닥거리다\n",
      "날다\n",
      "True\n",
      "True\n"
     ]
    }
   ],
   "source": [
    "# 36-9\n",
    "\n",
    "class Animal:\n",
    "    def eat(self):\n",
    "        print('먹다')\n",
    "        \n",
    "class Wing:\n",
    "    def flap(self):\n",
    "        print('파닥거리다')\n",
    "        \n",
    "class Bird(Animal,Wing):\n",
    "    def fly(self):\n",
    "        print('날다')\n",
    "        \n",
    "        \n",
    "b = Bird()\n",
    "b.eat()\n",
    "b.flap()\n",
    "b.fly()\n",
    "print(issubclass(Bird,Animal))\n",
    "print(issubclass(Bird,Wing))"
   ]
  },
  {
   "cell_type": "code",
   "execution_count": 17,
   "metadata": {},
   "outputs": [
    {
     "name": "stdout",
     "output_type": "stream",
     "text": [
      "100 100 200 200 300 300 400 400\n",
      "424.26406871192853\n"
     ]
    }
   ],
   "source": [
    "# 37-3 두 점 사이의 거리 구하기\n",
    "\n",
    "import math\n",
    "\n",
    "class Point2D:\n",
    "    def __init__(self,x=0,y=0):\n",
    "        self.x=x\n",
    "        self.y=y\n",
    "\n",
    "    \n",
    "lenght = 0.0\n",
    "p=[Point2D(),Point2D(),Point2D(),Point2D()]\n",
    "p[0].x, p[0].y, p[1].x, p[1].y, p[2].x, p[2].y, p[3].x, p[3].y = map(int,input().split())\n",
    "\n",
    "for i in range(len(p)-1):\n",
    "    x=p[i].x-p[i+1].x\n",
    "    y=p[i].y-p[i+1].y\n",
    "    line=math.sqrt(x**2 + y**2)\n",
    "    lenght += line\n",
    "\n",
    "    \n",
    "print(lenght)"
   ]
  },
  {
   "cell_type": "code",
   "execution_count": 18,
   "metadata": {},
   "outputs": [
    {
     "name": "stdout",
     "output_type": "stream",
     "text": [
      "hello\n",
      "회문이 아닙니다.\n"
     ]
    }
   ],
   "source": [
    "# 38-2\n",
    "\n",
    "class NotPalindromeError(Exception):\n",
    "    def __init__(self):\n",
    "        super().__init__('회문이 아닙니다.')\n",
    "\n",
    "def palindrome(word):\n",
    "    for i in range(len(word)//2):\n",
    "        if word[i]!=word[-1-i]:\n",
    "            raise NotPalindromeError\n",
    "            break\n",
    "    print(word)\n",
    "\n",
    "try:\n",
    "    word = input()\n",
    "    palindrome(word)\n",
    "except NotPalindromeError as e:\n",
    "    print(e)"
   ]
  },
  {
   "cell_type": "code",
   "execution_count": null,
   "metadata": {},
   "outputs": [],
   "source": []
  }
 ],
 "metadata": {
  "kernelspec": {
   "display_name": "Python 3",
   "language": "python",
   "name": "python3"
  },
  "language_info": {
   "codemirror_mode": {
    "name": "ipython",
    "version": 3
   },
   "file_extension": ".py",
   "mimetype": "text/x-python",
   "name": "python",
   "nbconvert_exporter": "python",
   "pygments_lexer": "ipython3",
   "version": "3.8.3"
  }
 },
 "nbformat": 4,
 "nbformat_minor": 4
}
